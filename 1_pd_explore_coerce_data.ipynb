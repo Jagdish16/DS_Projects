{
  "nbformat": 4,
  "nbformat_minor": 0,
  "metadata": {
    "kernelspec": {
      "display_name": "Python 3",
      "language": "python",
      "name": "python3"
    },
    "language_info": {
      "codemirror_mode": {
        "name": "ipython",
        "version": 3
      },
      "file_extension": ".py",
      "mimetype": "text/x-python",
      "name": "python",
      "nbconvert_exporter": "python",
      "pygments_lexer": "ipython3",
      "version": "3.7.4"
    },
    "colab": {
      "name": "1-pd-explore-coerce-data.ipynb",
      "provenance": []
    }
  },
  "cells": [
    {
      "cell_type": "markdown",
      "metadata": {
        "id": "4bi1njoW4Smq",
        "colab_type": "text"
      },
      "source": [
        "# Exploring and Coercing Data"
      ]
    },
    {
      "cell_type": "markdown",
      "metadata": {
        "id": "6QU9AK3y4Sms",
        "colab_type": "text"
      },
      "source": [
        "### Introduction"
      ]
    },
    {
      "cell_type": "markdown",
      "metadata": {
        "id": "vQcSQY-E4Smw",
        "colab_type": "text"
      },
      "source": [
        "In our last lab, we were able to gather data from a csv file and select data our target and features (or explanatory variables).  However, one issue is that we were constrained to only using features that were preformatted as numbers.  This stopped us from using our `genre` column as a feature, even though it would have been interesting to discover how genre can be predictive of movie revneue.  \n",
        "\n",
        "In this lesson, we'll explore datatypes in Pandas."
      ]
    },
    {
      "cell_type": "markdown",
      "metadata": {
        "id": "TtVEfleI4Smy",
        "colab_type": "text"
      },
      "source": [
        "### DataTypes in Pandas"
      ]
    },
    {
      "cell_type": "markdown",
      "metadata": {
        "id": "MU_b5ueW4Sm0",
        "colab_type": "text"
      },
      "source": [
        "Let's take a look at the table below regarding datatypes in Pandas."
      ]
    },
    {
      "cell_type": "markdown",
      "metadata": {
        "id": "X3Hwh1wW4Sm2",
        "colab_type": "text"
      },
      "source": [
        "|  Pandas dtype |  Python Type | Use |\n",
        "|---|---|---|\n",
        "|object|string|text|\n",
        "|int64/float64| int/float   | numbers|\n",
        "|bool|bool   |True/False|\n",
        "|datetime64| NA   |Dates and Times|\n",
        "|category| NA |Finite list of text values|"
      ]
    },
    {
      "cell_type": "markdown",
      "metadata": {
        "id": "Pb1NoX_y4Sm4",
        "colab_type": "text"
      },
      "source": [
        "By the end of this our work on Pandas, we'll look at each of these datatypes.  Remember that the reason why datatypes in Pandas are important, is because we need all of our data to be a number before we feed it into a machine learning model.  And some Pandas datatypes are more easy to convert to a number than others.  In general, a datatype of object is the most difficult to convert to being a number.  Because of this, a lot of the work in coercing our data involves changing a series from a type of object to a different datatype.  We'll explore some of the easy ways to change data from type `object` to type `int` or `float64`, `boolean`, or `datetime`."
      ]
    },
    {
      "cell_type": "markdown",
      "metadata": {
        "id": "kP5OKhxc4Sm7",
        "colab_type": "text"
      },
      "source": [
        "For this lesson, let's load up some data about [NYC SAT scores](https://data.cityofnewyork.us/Education/2012-SAT-Results/f9bf-2cp4), drawn from the [NYC Open data](https://opendata.cityofnewyork.us/) website.  We have uploaded our a version of this dataset here.  We'll use this dataset to explore datatypes in pandas."
      ]
    },
    {
      "cell_type": "code",
      "metadata": {
        "id": "bdajFyfb4Sm9",
        "colab_type": "code",
        "colab": {}
      },
      "source": [
        "import pandas as pd\n",
        "\n",
        "df = pd.read_csv('https://raw.githubusercontent.com/jigsawlabs-student/introductory-pandas/master/nyc_hs_sat.csv', index_col = 0)\n",
        "\n",
        "\n",
        "# to make things more interesting, we also alter some of the data\n",
        "columns = ['reading_avg', 'math_avg', 'writing_score']\n",
        "df[columns] = df[columns].astype('object')\n",
        "str_cols = df[columns].apply(lambda x: x.map(str))\n",
        "df = df.drop(columns = columns)\n",
        "sat_df = pd.concat([df, str_cols], axis = 1)"
      ],
      "execution_count": 0,
      "outputs": []
    },
    {
      "cell_type": "markdown",
      "metadata": {
        "id": "dS5G1NEB4SnR",
        "colab_type": "text"
      },
      "source": [
        "> Press shift + enter on the cell above and we can get started to load the data and we can get started."
      ]
    },
    {
      "cell_type": "markdown",
      "metadata": {
        "id": "dxHti2QR4SnT",
        "colab_type": "text"
      },
      "source": [
        "For this lesson, we'll choose Math SAT scores to be the target we are trying to predict. "
      ]
    },
    {
      "cell_type": "markdown",
      "metadata": {
        "id": "6OjsI6q14SnY",
        "colab_type": "text"
      },
      "source": [
        "### Exploring Our Data"
      ]
    },
    {
      "cell_type": "markdown",
      "metadata": {
        "id": "2itJ33uQ4Snd",
        "colab_type": "text"
      },
      "source": [
        "Now that we have loaded up our data, we want to begin changing our data so that it is numeric.  So we want to identify:\n",
        "\n",
        "1. The data that is either an integer or float and therefore ready\n",
        "2. The data that we can change into a better datatype to eventually use more easily\n",
        "\n",
        "What this generally means in practice is that we should identify those columns that are of type object, and should be changed to something else, and those that are not of type object, and thus are in pretty good shape.  \n",
        "\n",
        "To determine this we'll look at two methods: `df.dtypes` and `df.select_dtypes`."
      ]
    },
    {
      "cell_type": "markdown",
      "metadata": {
        "id": "QwG_0QTa4Snl",
        "colab_type": "text"
      },
      "source": [
        "* `dtypes`"
      ]
    },
    {
      "cell_type": "markdown",
      "metadata": {
        "id": "aFu-faym4Sno",
        "colab_type": "text"
      },
      "source": [
        "We can call the dtypes method directly on our pandas dataframe."
      ]
    },
    {
      "cell_type": "code",
      "metadata": {
        "id": "K_yh6OVH4Snr",
        "colab_type": "code",
        "colab": {},
        "outputId": "5f552d9b-9e18-4eed-e213-b6797a2712bc"
      },
      "source": [
        "sat_df.dtypes"
      ],
      "execution_count": 0,
      "outputs": [
        {
          "output_type": "execute_result",
          "data": {
            "text/plain": [
              "dbn                     object\n",
              "name                    object\n",
              "num_test_takers        float64\n",
              "boro                    object\n",
              "total_students           int64\n",
              "graduation_rate        float64\n",
              "attendance_rate        float64\n",
              "college_career_rate    float64\n",
              "reading_avg             object\n",
              "math_avg                object\n",
              "writing_score           object\n",
              "dtype: object"
            ]
          },
          "metadata": {
            "tags": []
          },
          "execution_count": 52
        }
      ]
    },
    {
      "cell_type": "markdown",
      "metadata": {
        "id": "hWFUzXd54Sn7",
        "colab_type": "text"
      },
      "source": [
        "The `dtypes` method lists the column name and corresponding datatype for each column.  We can see that a lot of these columns are of type object that we may like to change in a different datatype to feed into our machine learning model.  "
      ]
    },
    {
      "cell_type": "markdown",
      "metadata": {
        "id": "RMe0mffK4Sn9",
        "colab_type": "text"
      },
      "source": [
        "* `df.select_dtypes`"
      ]
    },
    {
      "cell_type": "markdown",
      "metadata": {
        "id": "vfriaEFJ4Sn-",
        "colab_type": "text"
      },
      "source": [
        "Now, if we would like to only select those columns of type object, we can do so with the `select_dtypes` method."
      ]
    },
    {
      "cell_type": "code",
      "metadata": {
        "id": "VcZieVz84SoA",
        "colab_type": "code",
        "colab": {},
        "outputId": "02de4ceb-e010-4408-b58e-c3a0d962e128"
      },
      "source": [
        "sat_objects_df = sat_df.select_dtypes('object')\n",
        "sat_objects_df[:2]"
      ],
      "execution_count": 0,
      "outputs": [
        {
          "output_type": "execute_result",
          "data": {
            "text/html": [
              "<div>\n",
              "<style scoped>\n",
              "    .dataframe tbody tr th:only-of-type {\n",
              "        vertical-align: middle;\n",
              "    }\n",
              "\n",
              "    .dataframe tbody tr th {\n",
              "        vertical-align: top;\n",
              "    }\n",
              "\n",
              "    .dataframe thead th {\n",
              "        text-align: right;\n",
              "    }\n",
              "</style>\n",
              "<table border=\"1\" class=\"dataframe\">\n",
              "  <thead>\n",
              "    <tr style=\"text-align: right;\">\n",
              "      <th></th>\n",
              "      <th>dbn</th>\n",
              "      <th>name</th>\n",
              "      <th>boro</th>\n",
              "      <th>reading_avg</th>\n",
              "      <th>math_avg</th>\n",
              "      <th>writing_score</th>\n",
              "    </tr>\n",
              "  </thead>\n",
              "  <tbody>\n",
              "    <tr>\n",
              "      <th>0</th>\n",
              "      <td>01M292</td>\n",
              "      <td>HENRY STREET SCHOOL FOR INTERNATIONAL STUDIES</td>\n",
              "      <td>M</td>\n",
              "      <td>355.0</td>\n",
              "      <td>404.0</td>\n",
              "      <td>363.0</td>\n",
              "    </tr>\n",
              "    <tr>\n",
              "      <th>1</th>\n",
              "      <td>01M448</td>\n",
              "      <td>UNIVERSITY NEIGHBORHOOD HIGH SCHOOL</td>\n",
              "      <td>M</td>\n",
              "      <td>383.0</td>\n",
              "      <td>423.0</td>\n",
              "      <td>366.0</td>\n",
              "    </tr>\n",
              "  </tbody>\n",
              "</table>\n",
              "</div>"
            ],
            "text/plain": [
              "      dbn                                           name boro reading_avg  \\\n",
              "0  01M292  HENRY STREET SCHOOL FOR INTERNATIONAL STUDIES    M       355.0   \n",
              "1  01M448            UNIVERSITY NEIGHBORHOOD HIGH SCHOOL    M       383.0   \n",
              "\n",
              "  math_avg writing_score  \n",
              "0    404.0         363.0  \n",
              "1    423.0         366.0  "
            ]
          },
          "metadata": {
            "tags": []
          },
          "execution_count": 5
        }
      ]
    },
    {
      "cell_type": "markdown",
      "metadata": {
        "id": "E-8rBhwd4SoK",
        "colab_type": "text"
      },
      "source": [
        "So we see that there are a number of columns that are currently not numeric, but could be good to include in our model.  For example, `reading_avg`, `math_avg`, `writing_score`, and `boro`."
      ]
    },
    {
      "cell_type": "markdown",
      "metadata": {
        "id": "Ws19g8pG4SoM",
        "colab_type": "text"
      },
      "source": [
        "* exclude"
      ]
    },
    {
      "cell_type": "markdown",
      "metadata": {
        "id": "-ccPSlj14SoP",
        "colab_type": "text"
      },
      "source": [
        "If we want to also see the columns that are currently **not** of type object, and thus may be ready for our model, we can find that by using `select_dtypes` to identify the columns that are not of type object."
      ]
    },
    {
      "cell_type": "code",
      "metadata": {
        "id": "BqMIkTSj4SoR",
        "colab_type": "code",
        "colab": {},
        "outputId": "4534e47c-fce4-402b-b519-fb3d9245f47c"
      },
      "source": [
        "except_objects_df = sat_df.select_dtypes(exclude = ['object'])\n",
        "except_objects_df[:2]"
      ],
      "execution_count": 0,
      "outputs": [
        {
          "output_type": "execute_result",
          "data": {
            "text/html": [
              "<div>\n",
              "<style scoped>\n",
              "    .dataframe tbody tr th:only-of-type {\n",
              "        vertical-align: middle;\n",
              "    }\n",
              "\n",
              "    .dataframe tbody tr th {\n",
              "        vertical-align: top;\n",
              "    }\n",
              "\n",
              "    .dataframe thead th {\n",
              "        text-align: right;\n",
              "    }\n",
              "</style>\n",
              "<table border=\"1\" class=\"dataframe\">\n",
              "  <thead>\n",
              "    <tr style=\"text-align: right;\">\n",
              "      <th></th>\n",
              "      <th>num_test_takers</th>\n",
              "      <th>total_students</th>\n",
              "      <th>graduation_rate</th>\n",
              "      <th>attendance_rate</th>\n",
              "      <th>college_career_rate</th>\n",
              "    </tr>\n",
              "  </thead>\n",
              "  <tbody>\n",
              "    <tr>\n",
              "      <th>0</th>\n",
              "      <td>29.0</td>\n",
              "      <td>171</td>\n",
              "      <td>0.66</td>\n",
              "      <td>0.87</td>\n",
              "      <td>0.36</td>\n",
              "    </tr>\n",
              "    <tr>\n",
              "      <th>1</th>\n",
              "      <td>91.0</td>\n",
              "      <td>465</td>\n",
              "      <td>0.90</td>\n",
              "      <td>0.93</td>\n",
              "      <td>0.70</td>\n",
              "    </tr>\n",
              "  </tbody>\n",
              "</table>\n",
              "</div>"
            ],
            "text/plain": [
              "   num_test_takers  total_students  graduation_rate  attendance_rate  \\\n",
              "0             29.0             171             0.66             0.87   \n",
              "1             91.0             465             0.90             0.93   \n",
              "\n",
              "   college_career_rate  \n",
              "0                 0.36  \n",
              "1                 0.70  "
            ]
          },
          "metadata": {
            "tags": []
          },
          "execution_count": 6
        }
      ]
    },
    {
      "cell_type": "markdown",
      "metadata": {
        "id": "n9Ka7EOk4Soa",
        "colab_type": "text"
      },
      "source": [
        "So these columns are not of type object, and look like they are good to go as features of our model."
      ]
    },
    {
      "cell_type": "markdown",
      "metadata": {
        "id": "JbAT-tXp4Soc",
        "colab_type": "text"
      },
      "source": [
        "### Changing the DataType of Columns"
      ]
    },
    {
      "cell_type": "markdown",
      "metadata": {
        "id": "Fz8rYgei4Soe",
        "colab_type": "text"
      },
      "source": [
        "Now that we have identified the columns that we may wish to change -- with the `dtypes` and `select_dtypes` methods, let's move onto coercing some of these columns."
      ]
    },
    {
      "cell_type": "markdown",
      "metadata": {
        "id": "Z43YFaTd4Sog",
        "colab_type": "text"
      },
      "source": [
        "Let's start by taking another look at the columns that are currently of type object."
      ]
    },
    {
      "cell_type": "code",
      "metadata": {
        "id": "ppfYMVl_4Soi",
        "colab_type": "code",
        "colab": {},
        "outputId": "3ff7ae23-1e81-4623-a859-055a8597029b"
      },
      "source": [
        "sat_df.select_dtypes('object')[:2]"
      ],
      "execution_count": 0,
      "outputs": [
        {
          "output_type": "execute_result",
          "data": {
            "text/html": [
              "<div>\n",
              "<style scoped>\n",
              "    .dataframe tbody tr th:only-of-type {\n",
              "        vertical-align: middle;\n",
              "    }\n",
              "\n",
              "    .dataframe tbody tr th {\n",
              "        vertical-align: top;\n",
              "    }\n",
              "\n",
              "    .dataframe thead th {\n",
              "        text-align: right;\n",
              "    }\n",
              "</style>\n",
              "<table border=\"1\" class=\"dataframe\">\n",
              "  <thead>\n",
              "    <tr style=\"text-align: right;\">\n",
              "      <th></th>\n",
              "      <th>dbn</th>\n",
              "      <th>name</th>\n",
              "      <th>boro</th>\n",
              "      <th>reading_avg</th>\n",
              "      <th>math_avg</th>\n",
              "      <th>writing_score</th>\n",
              "    </tr>\n",
              "  </thead>\n",
              "  <tbody>\n",
              "    <tr>\n",
              "      <td>0</td>\n",
              "      <td>01M292</td>\n",
              "      <td>HENRY STREET SCHOOL FOR INTERNATIONAL STUDIES</td>\n",
              "      <td>M</td>\n",
              "      <td>355.0</td>\n",
              "      <td>404.0</td>\n",
              "      <td>363.0</td>\n",
              "    </tr>\n",
              "    <tr>\n",
              "      <td>1</td>\n",
              "      <td>01M448</td>\n",
              "      <td>UNIVERSITY NEIGHBORHOOD HIGH SCHOOL</td>\n",
              "      <td>M</td>\n",
              "      <td>383.0</td>\n",
              "      <td>423.0</td>\n",
              "      <td>366.0</td>\n",
              "    </tr>\n",
              "  </tbody>\n",
              "</table>\n",
              "</div>"
            ],
            "text/plain": [
              "      dbn                                           name boro reading_avg  \\\n",
              "0  01M292  HENRY STREET SCHOOL FOR INTERNATIONAL STUDIES    M       355.0   \n",
              "1  01M448            UNIVERSITY NEIGHBORHOOD HIGH SCHOOL    M       383.0   \n",
              "\n",
              "  math_avg writing_score  \n",
              "0    404.0         363.0  \n",
              "1    423.0         366.0  "
            ]
          },
          "metadata": {
            "tags": []
          },
          "execution_count": 55
        }
      ]
    },
    {
      "cell_type": "markdown",
      "metadata": {
        "id": "KHvlB2394Soq",
        "colab_type": "text"
      },
      "source": [
        "The column `reading_avg` looks like it could be predictive of our `math_avg` target, so let's try to make the column numeric.  Currently, the column is of type `object`, and if we look, we see that each of the entries are a string. "
      ]
    },
    {
      "cell_type": "code",
      "metadata": {
        "id": "W9KufvGi4Sor",
        "colab_type": "code",
        "colab": {},
        "outputId": "c98beb7d-172c-4e75-82e9-ccc34ce73827"
      },
      "source": [
        "sat_df.reading_avg.dtype"
      ],
      "execution_count": 0,
      "outputs": [
        {
          "output_type": "execute_result",
          "data": {
            "text/plain": [
              "dtype('O')"
            ]
          },
          "metadata": {
            "tags": []
          },
          "execution_count": 7
        }
      ]
    },
    {
      "cell_type": "code",
      "metadata": {
        "id": "bdL4eGJZ4So2",
        "colab_type": "code",
        "colab": {},
        "outputId": "d5aa69de-9262-4504-e24b-522b9585b922"
      },
      "source": [
        "sat_df.reading_avg[0]"
      ],
      "execution_count": 0,
      "outputs": [
        {
          "output_type": "execute_result",
          "data": {
            "text/plain": [
              "'355.0'"
            ]
          },
          "metadata": {
            "tags": []
          },
          "execution_count": 58
        }
      ]
    },
    {
      "cell_type": "markdown",
      "metadata": {
        "id": "uWFJSpbV4So-",
        "colab_type": "text"
      },
      "source": [
        "Now if we change the data to be of type numeric, we can eventually use this data as a feature in our model."
      ]
    },
    {
      "cell_type": "code",
      "metadata": {
        "id": "zOTlziFv4So_",
        "colab_type": "code",
        "colab": {},
        "outputId": "bd97875c-0426-422a-8e0f-89496009e3d8"
      },
      "source": [
        "reading = sat_df.reading_avg.astype('float64')\n",
        "reading.dtype"
      ],
      "execution_count": 0,
      "outputs": [
        {
          "output_type": "execute_result",
          "data": {
            "text/plain": [
              "dtype('float64')"
            ]
          },
          "metadata": {
            "tags": []
          },
          "execution_count": 61
        }
      ]
    },
    {
      "cell_type": "code",
      "metadata": {
        "id": "8WmcWPCG4SpK",
        "colab_type": "code",
        "colab": {},
        "outputId": "94781ef3-bdbc-4475-df6a-b8b5520abb4c"
      },
      "source": [
        "reading[0]"
      ],
      "execution_count": 0,
      "outputs": [
        {
          "output_type": "execute_result",
          "data": {
            "text/plain": [
              "355.0"
            ]
          },
          "metadata": {
            "tags": []
          },
          "execution_count": 63
        }
      ]
    },
    {
      "cell_type": "markdown",
      "metadata": {
        "id": "rowR-MVX4SpX",
        "colab_type": "text"
      },
      "source": [
        "Now that we have a series of data in an integer format, we can replace the original `sat_df` column to be our new `reading`, coerced, column."
      ]
    },
    {
      "cell_type": "code",
      "metadata": {
        "id": "37Jmloku4SpZ",
        "colab_type": "code",
        "colab": {}
      },
      "source": [
        "sat_df['reading_avg'] = reading"
      ],
      "execution_count": 0,
      "outputs": []
    },
    {
      "cell_type": "markdown",
      "metadata": {
        "id": "Wp1FkCfJ4Spm",
        "colab_type": "text"
      },
      "source": [
        "> So we just used the `astype` method to specify the datatype that the column should be.  Then, we replaced the old column with with the new coerced column."
      ]
    },
    {
      "cell_type": "markdown",
      "metadata": {
        "id": "ks6sDtAW4Spp",
        "colab_type": "text"
      },
      "source": [
        "Ok, Let's see our progress, by checking that there is one fewer column of type `object`."
      ]
    },
    {
      "cell_type": "code",
      "metadata": {
        "id": "872Raxuq4Spq",
        "colab_type": "code",
        "colab": {},
        "outputId": "d8d5f793-1928-474f-8d8d-e4898f013c91"
      },
      "source": [
        "sat_df.select_dtypes('object')[:2]"
      ],
      "execution_count": 0,
      "outputs": [
        {
          "output_type": "execute_result",
          "data": {
            "text/html": [
              "<div>\n",
              "<style scoped>\n",
              "    .dataframe tbody tr th:only-of-type {\n",
              "        vertical-align: middle;\n",
              "    }\n",
              "\n",
              "    .dataframe tbody tr th {\n",
              "        vertical-align: top;\n",
              "    }\n",
              "\n",
              "    .dataframe thead th {\n",
              "        text-align: right;\n",
              "    }\n",
              "</style>\n",
              "<table border=\"1\" class=\"dataframe\">\n",
              "  <thead>\n",
              "    <tr style=\"text-align: right;\">\n",
              "      <th></th>\n",
              "      <th>dbn</th>\n",
              "      <th>name</th>\n",
              "      <th>boro</th>\n",
              "      <th>math_avg</th>\n",
              "      <th>writing_score</th>\n",
              "    </tr>\n",
              "  </thead>\n",
              "  <tbody>\n",
              "    <tr>\n",
              "      <td>0</td>\n",
              "      <td>01M292</td>\n",
              "      <td>HENRY STREET SCHOOL FOR INTERNATIONAL STUDIES</td>\n",
              "      <td>M</td>\n",
              "      <td>404.0</td>\n",
              "      <td>363.0</td>\n",
              "    </tr>\n",
              "    <tr>\n",
              "      <td>1</td>\n",
              "      <td>01M448</td>\n",
              "      <td>UNIVERSITY NEIGHBORHOOD HIGH SCHOOL</td>\n",
              "      <td>M</td>\n",
              "      <td>423.0</td>\n",
              "      <td>366.0</td>\n",
              "    </tr>\n",
              "  </tbody>\n",
              "</table>\n",
              "</div>"
            ],
            "text/plain": [
              "      dbn                                           name boro math_avg  \\\n",
              "0  01M292  HENRY STREET SCHOOL FOR INTERNATIONAL STUDIES    M    404.0   \n",
              "1  01M448            UNIVERSITY NEIGHBORHOOD HIGH SCHOOL    M    423.0   \n",
              "\n",
              "  writing_score  \n",
              "0         363.0  \n",
              "1         366.0  "
            ]
          },
          "metadata": {
            "tags": []
          },
          "execution_count": 66
        }
      ]
    },
    {
      "cell_type": "markdown",
      "metadata": {
        "id": "Y8_MBvZ44Sp3",
        "colab_type": "text"
      },
      "source": [
        "### Coercing DateTime Data"
      ]
    },
    {
      "cell_type": "markdown",
      "metadata": {
        "id": "J2A_J_5t4Sp4",
        "colab_type": "text"
      },
      "source": [
        "Now there's more work to do with our SAT dataset, but we'll leave that for you in the next lab.  For now, let's move onto working with another type of data, datetimes.  To do so, we'll use some revenue data from Max's Wine Bar in Texas.  We currently have the data stored in JSON.  Let's load it up."
      ]
    },
    {
      "cell_type": "code",
      "metadata": {
        "id": "HZTCrKvO4Sp5",
        "colab_type": "code",
        "colab": {}
      },
      "source": [
        "max_revenue = pd.read_json('https://raw.githubusercontent.com/jigsawlabs-student/introductory-pandas/master/max-revenue.json')"
      ],
      "execution_count": 0,
      "outputs": []
    },
    {
      "cell_type": "code",
      "metadata": {
        "id": "auDlNmfW4Sp_",
        "colab_type": "code",
        "colab": {},
        "outputId": "16193da1-1e4c-4436-ecb0-ac74c6f6c349"
      },
      "source": [
        "max_revenue[:2]"
      ],
      "execution_count": 0,
      "outputs": [
        {
          "output_type": "execute_result",
          "data": {
            "text/html": [
              "<div>\n",
              "<style scoped>\n",
              "    .dataframe tbody tr th:only-of-type {\n",
              "        vertical-align: middle;\n",
              "    }\n",
              "\n",
              "    .dataframe tbody tr th {\n",
              "        vertical-align: top;\n",
              "    }\n",
              "\n",
              "    .dataframe thead th {\n",
              "        text-align: right;\n",
              "    }\n",
              "</style>\n",
              "<table border=\"1\" class=\"dataframe\">\n",
              "  <thead>\n",
              "    <tr style=\"text-align: right;\">\n",
              "      <th></th>\n",
              "      <th>end_date</th>\n",
              "      <th>total_receipts</th>\n",
              "    </tr>\n",
              "  </thead>\n",
              "  <tbody>\n",
              "    <tr>\n",
              "      <th>0</th>\n",
              "      <td>2016-12-31T00:00:00.000</td>\n",
              "      <td>56182</td>\n",
              "    </tr>\n",
              "    <tr>\n",
              "      <th>1</th>\n",
              "      <td>2017-08-31T00:00:00.000</td>\n",
              "      <td>9400</td>\n",
              "    </tr>\n",
              "  </tbody>\n",
              "</table>\n",
              "</div>"
            ],
            "text/plain": [
              "                  end_date  total_receipts\n",
              "0  2016-12-31T00:00:00.000           56182\n",
              "1  2017-08-31T00:00:00.000            9400"
            ]
          },
          "metadata": {
            "tags": []
          },
          "execution_count": 9
        }
      ]
    },
    {
      "cell_type": "markdown",
      "metadata": {
        "id": "hOgFnrOa4SqF",
        "colab_type": "text"
      },
      "source": [
        "Now `total_receipts` the represents the revenue earned from alcohol in a month, and the `end_date` is the month in which that revenue was earned.  So the first row indicates that `56182` was earned in the month of December 2016.  \n",
        "\n",
        "Let's say we to predict the revenue earned per month, making `total_receipts` our target.  And as information to predict the revenue earned we can use information like the year, or month for the related period.  Let's see how we can extract `year` and `month` information from `end_date`."
      ]
    },
    {
      "cell_type": "code",
      "metadata": {
        "id": "V46WdnYD4SqG",
        "colab_type": "code",
        "colab": {},
        "outputId": "756033af-dac3-474d-ac2e-2ca90ef29582"
      },
      "source": [
        "max_revenue.dtypes"
      ],
      "execution_count": 0,
      "outputs": [
        {
          "output_type": "execute_result",
          "data": {
            "text/plain": [
              "end_date          object\n",
              "total_receipts     int64\n",
              "dtype: object"
            ]
          },
          "metadata": {
            "tags": []
          },
          "execution_count": 10
        }
      ]
    },
    {
      "cell_type": "markdown",
      "metadata": {
        "id": "gNVGtxkA4SqN",
        "colab_type": "text"
      },
      "source": [
        "The first step is to change then end_date from type object to type `datetime64`.  This way each entry is not just a string, which is hard to work with."
      ]
    },
    {
      "cell_type": "code",
      "metadata": {
        "id": "si9GAqHG4SqO",
        "colab_type": "code",
        "colab": {},
        "outputId": "bbf2d261-7075-45a4-8db1-43309b0c4e6d"
      },
      "source": [
        "max_revenue.end_date[0]"
      ],
      "execution_count": 0,
      "outputs": [
        {
          "output_type": "execute_result",
          "data": {
            "text/plain": [
              "'2016-12-31T00:00:00.000'"
            ]
          },
          "metadata": {
            "tags": []
          },
          "execution_count": 89
        }
      ]
    },
    {
      "cell_type": "code",
      "metadata": {
        "id": "bqYPwrh74SqU",
        "colab_type": "code",
        "colab": {},
        "outputId": "042564c2-c4fc-4544-f1f2-64df71a3f841"
      },
      "source": [
        "end_date = max_revenue.end_date.astype('datetime64')\n",
        "end_date[:2]"
      ],
      "execution_count": 0,
      "outputs": [
        {
          "output_type": "execute_result",
          "data": {
            "text/plain": [
              "0   2016-12-31\n",
              "1   2017-08-31\n",
              "Name: end_date, dtype: datetime64[ns]"
            ]
          },
          "metadata": {
            "tags": []
          },
          "execution_count": 11
        }
      ]
    },
    {
      "cell_type": "markdown",
      "metadata": {
        "id": "8PTVVNCm4Sqb",
        "colab_type": "text"
      },
      "source": [
        "Another way that we can do this is using the `pd.to_datetime` method."
      ]
    },
    {
      "cell_type": "code",
      "metadata": {
        "id": "UCiAN9b-4Sqc",
        "colab_type": "code",
        "colab": {},
        "outputId": "46d4fa93-697a-4365-cdfb-2d5715f751c1"
      },
      "source": [
        "end_date = pd.to_datetime(max_revenue.end_date)\n",
        "end_date[:2]"
      ],
      "execution_count": 0,
      "outputs": [
        {
          "output_type": "execute_result",
          "data": {
            "text/plain": [
              "0   2016-12-31\n",
              "1   2017-08-31\n",
              "Name: end_date, dtype: datetime64[ns]"
            ]
          },
          "metadata": {
            "tags": []
          },
          "execution_count": 12
        }
      ]
    },
    {
      "cell_type": "markdown",
      "metadata": {
        "id": "glzIwO9w4Sqi",
        "colab_type": "text"
      },
      "source": [
        "Ok, now that our data is of type `datetime`, we can call methods to extract the month, weekday, or year from each entry."
      ]
    },
    {
      "cell_type": "code",
      "metadata": {
        "id": "TgiEUX664Sqk",
        "colab_type": "code",
        "colab": {},
        "outputId": "a30f1a5f-df3c-410f-9fc6-6fb4fd03b7cf"
      },
      "source": [
        "end_date[0].month"
      ],
      "execution_count": 0,
      "outputs": [
        {
          "output_type": "execute_result",
          "data": {
            "text/plain": [
              "12"
            ]
          },
          "metadata": {
            "tags": []
          },
          "execution_count": 13
        }
      ]
    },
    {
      "cell_type": "code",
      "metadata": {
        "id": "Qm2tBJg74Sqt",
        "colab_type": "code",
        "colab": {},
        "outputId": "301fa831-2fa5-44c6-df20-8a79eadc5430"
      },
      "source": [
        "end_date[1].year"
      ],
      "execution_count": 0,
      "outputs": [
        {
          "output_type": "execute_result",
          "data": {
            "text/plain": [
              "2017"
            ]
          },
          "metadata": {
            "tags": []
          },
          "execution_count": 14
        }
      ]
    },
    {
      "cell_type": "markdown",
      "metadata": {
        "id": "UT7bwygI4Sq2",
        "colab_type": "text"
      },
      "source": [
        "Now when we get to the next reading on replacing data we will learn how to use these methods to create entire columns of the related month and year for a revenue period."
      ]
    },
    {
      "cell_type": "markdown",
      "metadata": {
        "id": "1W25UEmw4Sq4",
        "colab_type": "text"
      },
      "source": [
        "### Summary"
      ]
    },
    {
      "cell_type": "markdown",
      "metadata": {
        "id": "ERdt-TWQ4Sq6",
        "colab_type": "text"
      },
      "source": [
        "In this lesson, we saw how to coerce our data into formats that are not objects.  We saw how to explore the datatypes with the `dtypes` method, and how to select columns by their type with `select_dtypes`.  We then saw how to coerce our data with the `astype` method."
      ]
    }
  ]
}